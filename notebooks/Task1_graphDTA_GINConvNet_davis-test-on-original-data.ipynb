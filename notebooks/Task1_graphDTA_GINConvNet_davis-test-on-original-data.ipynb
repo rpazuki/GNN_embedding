{
 "cells": [
  {
   "cell_type": "code",
   "execution_count": 2,
   "id": "71e1bcd8-fd0c-4a34-9741-50931f6d7c40",
   "metadata": {},
   "outputs": [],
   "source": [
    "%load_ext autoreload"
   ]
  },
  {
   "cell_type": "code",
   "execution_count": 3,
   "id": "773a191b-3a27-41e0-98b9-6cda9fce86c0",
   "metadata": {},
   "outputs": [],
   "source": [
    "%autoreload 2\n",
    "import torch\n",
    "import pandas as pd\n",
    "from wrapers import *\n",
    "from torch_geometric.data import InMemoryDataset, DataLoader\n",
    "from torch_geometric import data as DATA\n",
    "import os"
   ]
  },
  {
   "cell_type": "code",
   "execution_count": 4,
   "id": "e7145bfe-2bdc-4b4b-b404-eda8641ec01a",
   "metadata": {},
   "outputs": [],
   "source": [
    "model = torch.load(\"../GraphDTA/model_GINConvNet_davis.model\", weights_only=True)"
   ]
  },
  {
   "cell_type": "code",
   "execution_count": 5,
   "id": "8a72978e-5c37-4515-a86a-562bba920a08",
   "metadata": {},
   "outputs": [
    {
     "data": {
      "text/plain": [
       "<All keys matched successfully>"
      ]
     },
     "execution_count": 5,
     "metadata": {},
     "output_type": "execute_result"
    }
   ],
   "source": [
    "model = GINConvNet_augmented()\n",
    "model.load_state_dict(torch.load(\"../GraphDTA/model_GINConvNet_davis.model\", weights_only=True))"
   ]
  },
  {
   "cell_type": "code",
   "execution_count": 6,
   "id": "4825f3fe-b4c4-4372-9f6b-5f267901fd49",
   "metadata": {},
   "outputs": [],
   "source": [
    "data_source = pd.read_csv('../GraphDTA/data/davis_test.csv')"
   ]
  },
  {
   "cell_type": "code",
   "execution_count": 7,
   "id": "b06f4f46-f315-43bb-82d2-0686068f09f6",
   "metadata": {},
   "outputs": [],
   "source": [
    "iso_smiles, smiles_id_dict, smiles_graphs = smiles_to_graphs(data_source.index.values,\n",
    "                                                             data_source[\"compound_iso_smiles\"].values,\n",
    "                                                             isomericSmiles=True,\n",
    "                                                             use_rdkit=True)"
   ]
  },
  {
   "cell_type": "code",
   "execution_count": 8,
   "id": "ec847fee-538f-4846-8d54-c3766afd5dfa",
   "metadata": {},
   "outputs": [],
   "source": [
    "from torch.utils.data.dataloader import DataLoader\n",
    "dataset = CompoundsStream(iso_smiles, smiles_graphs, smiles_id_dict)\n",
    "embedding_loader = DataLoader(dataset=dataset, batch_size = 1)"
   ]
  },
  {
   "cell_type": "code",
   "execution_count": 9,
   "id": "cd3b0280-ce26-47d5-9261-3c196d8371c0",
   "metadata": {},
   "outputs": [
    {
     "name": "stderr",
     "output_type": "stream",
     "text": [
      "/home/roozbeh/Desktop/comp-bio/task1/notebooks/wrapers.py:303: UserWarning: Creating a tensor from a list of numpy.ndarrays is extremely slow. Please consider converting the list to a single numpy.ndarray with numpy.array() before converting to a tensor. (Triggered internally at ../torch/csrc/utils/tensor_new.cpp:278.)\n",
      "  yield torch.Tensor(features), torch.LongTensor(np.array(edge_index)).transpose(1, 0), id\n"
     ]
    }
   ],
   "source": [
    "model.eval()\n",
    "embedded_mols = []\n",
    "with torch.no_grad():\n",
    "    for data in embedding_loader:\n",
    "        #print(data.x[0], model2.g_embedding(data.x[0]))        \n",
    "        m = model.g_embedding(data)\n",
    "        embedded_mols.append(m)"
   ]
  },
  {
   "cell_type": "code",
   "execution_count": 10,
   "id": "dfe6cf5f-917c-4935-ad70-0cdca31c1bbf",
   "metadata": {},
   "outputs": [
    {
     "data": {
      "text/plain": [
       "(5010, (5010, 3), 0, 0, 5010)"
      ]
     },
     "execution_count": 10,
     "metadata": {},
     "output_type": "execute_result"
    }
   ],
   "source": [
    "len(embedded_mols), data_source.shape, data_source.shape[0] - len(embedded_mols), data_source.shape[0]-len(iso_smiles), len(iso_smiles)"
   ]
  },
  {
   "cell_type": "code",
   "execution_count": 11,
   "id": "27693fb6-cb81-4cae-bf6d-32c9ff2a32e8",
   "metadata": {},
   "outputs": [],
   "source": [
    "from sklearn.decomposition import PCA\n",
    "from sklearn.manifold import TSNE\n",
    "import matplotlib.pyplot as plt\n",
    "from mpl_toolkits.mplot3d import Axes3D\n",
    "import seaborn as sns"
   ]
  },
  {
   "cell_type": "code",
   "execution_count": 12,
   "id": "0c8a8f06-0811-4ee0-a93c-47a89cb03f97",
   "metadata": {},
   "outputs": [],
   "source": [
    "def plot_tSNE(embedded_data, ids, \n",
    "              n_iter=300, figsize=(10,10), \n",
    "              verbose=1, hue_callback=None, \n",
    "              fig=None, ax=None,\n",
    "              title=\"\"):\n",
    "    tsne = TSNE(n_components=2, verbose=verbose, perplexity=40, n_iter=n_iter)\n",
    "    tsne_results = tsne.fit_transform(embedded_data)\n",
    "    df = pd.DataFrame({})\n",
    "    df['X'] = tsne_results[:,0]\n",
    "    df['Y'] = tsne_results[:,1]\n",
    "    df['id'] = ids\n",
    "    #\n",
    "    if hue_callback is not None:\n",
    "        df[\"target\"] = hue_callback(df, embedded_data, ids)\n",
    "    #\n",
    "    #\n",
    "    np.random.seed(42)    \n",
    "    rndperm = np.random.permutation(df.shape[0])\n",
    "    #\n",
    "    if ax is None and fig is None:\n",
    "        fig = plt.figure(figsize=figsize)\n",
    "\n",
    "    if ax is None:\n",
    "        ax = fig.subplots()    \n",
    "    sns.scatterplot(\n",
    "        x=\"X\", y=\"Y\",\n",
    "        hue= None if hue_callback is None else \"target\",\n",
    "        palette=sns.color_palette(\"Set1\", 100),\n",
    "        data=df.loc[rndperm,:],\n",
    "        legend=\"full\",\n",
    "        alpha=0.3,\n",
    "        ax=ax\n",
    "    )\n",
    "    ax.set_title(title)\n",
    "    return ax, df"
   ]
  },
  {
   "cell_type": "code",
   "execution_count": 14,
   "id": "cdb9376a-64ed-4243-b7ba-555aaaf2a968",
   "metadata": {},
   "outputs": [
    {
     "name": "stderr",
     "output_type": "stream",
     "text": [
      "/home/roozbeh/Desktop/comp-bio/task1/.venv_graphdta/lib/python3.10/site-packages/sklearn/manifold/_t_sne.py:1164: FutureWarning: 'n_iter' was renamed to 'max_iter' in version 1.5 and will be removed in 1.7.\n",
      "  warnings.warn(\n",
      "/tmp/ipykernel_3118911/3483545894.py:25: UserWarning: Ignoring `palette` because no `hue` variable has been assigned.\n",
      "  sns.scatterplot(\n"
     ]
    },
    {
     "data": {
      "image/png": "[encoded data removed]",
      "text/plain": [
       "<Figure size 600x600 with 1 Axes>"
      ]
     },
     "metadata": {},
     "output_type": "display_data"
    }
   ],
   "source": [
    "arr_embedded_mols = np.array([ item[0].numpy().reshape(-1) for item in embedded_mols ])\n",
    "ids = [ str(item[1][0]) for item in embedded_mols ]                             \n",
    "_, df_tSNE = plot_tSNE(arr_embedded_mols, ids, figsize=(6,6), n_iter=1000, verbose=0, title=\"tSNE Plot \\n Paper's Test Data Embeddings\")"
   ]
  },
  {
   "cell_type": "code",
   "execution_count": null,
   "id": "726f7fa5-c1c7-4b15-8dff-0614e69182ed",
   "metadata": {},
   "outputs": [],
   "source": []
  },
  {
   "cell_type": "code",
   "execution_count": null,
   "id": "cfd37a71-476b-4ab5-ac11-6dddb73a2944",
   "metadata": {},
   "outputs": [],
   "source": []
  }
 ],
 "metadata": {
  "kernelspec": {
   "display_name": "Python 3 (ipykernel)",
   "language": "python",
   "name": "python3"
  },
  "language_info": {
   "codemirror_mode": {
    "name": "ipython",
    "version": 3
   },
   "file_extension": ".py",
   "mimetype": "text/x-python",
   "name": "python",
   "nbconvert_exporter": "python",
   "pygments_lexer": "ipython3",
   "version": "3.10.0"
  }
 },
 "nbformat": 4,
 "nbformat_minor": 5
}
