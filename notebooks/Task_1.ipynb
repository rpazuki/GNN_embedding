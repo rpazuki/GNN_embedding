{
 "cells": [
  {
   "cell_type": "code",
   "execution_count": 26,
   "id": "48318569-6282-4ed3-85d7-98bec10a9738",
   "metadata": {},
   "outputs": [],
   "source": [
    "import numpy as np\n",
    "from rdkit import Chem\n",
    "import deepchem as dc\n",
    "import pandas as pd"
   ]
  },
  {
   "cell_type": "code",
   "execution_count": 2,
   "id": "4099c99e-2b05-4043-a538-09eda771b7ee",
   "metadata": {},
   "outputs": [],
   "source": [
    "data = pd.read_csv('../data/TASK1 Material_Drug_SMILES.csv')"
   ]
  },
  {
   "cell_type": "code",
   "execution_count": 3,
   "id": "1883417b-cde4-47ac-95e8-54b0430df353",
   "metadata": {},
   "outputs": [
    {
     "data": {
      "text/html": [
       "<div>\n",
       "<style scoped>\n",
       "    .dataframe tbody tr th:only-of-type {\n",
       "        vertical-align: middle;\n",
       "    }\n",
       "\n",
       "    .dataframe tbody tr th {\n",
       "        vertical-align: top;\n",
       "    }\n",
       "\n",
       "    .dataframe thead th {\n",
       "        text-align: right;\n",
       "    }\n",
       "</style>\n",
       "<table border=\"1\" class=\"dataframe\">\n",
       "  <thead>\n",
       "    <tr style=\"text-align: right;\">\n",
       "      <th></th>\n",
       "      <th>drugbank_id</th>\n",
       "      <th>drug_name</th>\n",
       "      <th>type</th>\n",
       "      <th>SMILES</th>\n",
       "    </tr>\n",
       "  </thead>\n",
       "  <tbody>\n",
       "    <tr>\n",
       "      <th>0</th>\n",
       "      <td>DB00006</td>\n",
       "      <td>Bivalirudin</td>\n",
       "      <td>small molecule</td>\n",
       "      <td>CC[C@H](C)[C@H](NC(=O)[C@H](CCC(O)=O)NC(=O)[C@...</td>\n",
       "    </tr>\n",
       "    <tr>\n",
       "      <th>1</th>\n",
       "      <td>DB00007</td>\n",
       "      <td>Leuprolide</td>\n",
       "      <td>small molecule</td>\n",
       "      <td>CCNC(=O)[C@@H]1CCCN1C(=O)[C@H](CCCNC(N)=N)NC(=...</td>\n",
       "    </tr>\n",
       "    <tr>\n",
       "      <th>2</th>\n",
       "      <td>DB00014</td>\n",
       "      <td>Goserelin</td>\n",
       "      <td>small molecule</td>\n",
       "      <td>CC(C)C[C@H](NC(=O)[C@@H](COC(C)(C)C)NC(=O)[C@H...</td>\n",
       "    </tr>\n",
       "    <tr>\n",
       "      <th>3</th>\n",
       "      <td>DB00027</td>\n",
       "      <td>Gramicidin D</td>\n",
       "      <td>small molecule</td>\n",
       "      <td>CC(C)C[C@@H](NC(=O)CNC(=O)[C@@H](NC=O)C(C)C)C(...</td>\n",
       "    </tr>\n",
       "    <tr>\n",
       "      <th>4</th>\n",
       "      <td>DB00035</td>\n",
       "      <td>Desmopressin</td>\n",
       "      <td>small molecule</td>\n",
       "      <td>NC(=O)CC[C@@H]1NC(=O)[C@H](CC2=CC=CC=C2)NC(=O)...</td>\n",
       "    </tr>\n",
       "  </tbody>\n",
       "</table>\n",
       "</div>"
      ],
      "text/plain": [
       "  drugbank_id     drug_name            type  \\\n",
       "0     DB00006   Bivalirudin  small molecule   \n",
       "1     DB00007    Leuprolide  small molecule   \n",
       "2     DB00014     Goserelin  small molecule   \n",
       "3     DB00027  Gramicidin D  small molecule   \n",
       "4     DB00035  Desmopressin  small molecule   \n",
       "\n",
       "                                              SMILES  \n",
       "0  CC[C@H](C)[C@H](NC(=O)[C@H](CCC(O)=O)NC(=O)[C@...  \n",
       "1  CCNC(=O)[C@@H]1CCCN1C(=O)[C@H](CCCNC(N)=N)NC(=...  \n",
       "2  CC(C)C[C@H](NC(=O)[C@@H](COC(C)(C)C)NC(=O)[C@H...  \n",
       "3  CC(C)C[C@@H](NC(=O)CNC(=O)[C@@H](NC=O)C(C)C)C(...  \n",
       "4  NC(=O)CC[C@@H]1NC(=O)[C@H](CC2=CC=CC=C2)NC(=O)...  "
      ]
     },
     "execution_count": 3,
     "metadata": {},
     "output_type": "execute_result"
    }
   ],
   "source": [
    "data.head()"
   ]
  },
  {
   "cell_type": "code",
   "execution_count": 4,
   "id": "94c81e7b-65f9-43d9-a004-4a71301f0593",
   "metadata": {},
   "outputs": [
    {
     "name": "stderr",
     "output_type": "stream",
     "text": [
      "[18:45:22] Explicit valence for atom # 13 Cl, 5, is greater than permitted\n",
      "[18:45:22] SMILES Parse Error: syntax error while parsing: OS(O)(O)C1=CC=C(C=C1)C-1=C2\\C=CC(=N2)\\C(=C2/N\\C(\\C=C2)=C(/C2=N/C(/C=C2)=C(\\C2=CC=C\\-1N2)C1=CC=C(C=C1)S(O)(O)O)C1=CC=C(C=C1)S([O-])([O-])[O-])\\C1=CC=C(C=C1)S(O)(O)[O-]\n",
      "[18:45:22] SMILES Parse Error: Failed parsing SMILES 'OS(O)(O)C1=CC=C(C=C1)C-1=C2\\C=CC(=N2)\\C(=C2/N\\C(\\C=C2)=C(/C2=N/C(/C=C2)=C(\\C2=CC=C\\-1N2)C1=CC=C(C=C1)S(O)(O)O)C1=CC=C(C=C1)S([O-])([O-])[O-])\\C1=CC=C(C=C1)S(O)(O)[O-]' for input: 'OS(O)(O)C1=CC=C(C=C1)C-1=C2\\C=CC(=N2)\\C(=C2/N\\C(\\C=C2)=C(/C2=N/C(/C=C2)=C(\\C2=CC=C\\-1N2)C1=CC=C(C=C1)S(O)(O)O)C1=CC=C(C=C1)S([O-])([O-])[O-])\\C1=CC=C(C=C1)S(O)(O)[O-]'\n",
      "[18:45:22] Explicit valence for atom # 19 O, 3, is greater than permitted\n",
      "[18:45:22] Explicit valence for atom # 0 O, 3, is greater than permitted\n",
      "[18:45:22] Unusual charge on atom 0 number of radical electrons set to zero\n",
      "[18:45:22] Explicit valence for atom # 4 F, 2, is greater than permitted\n",
      "[18:45:23] Explicit valence for atom # 13 Be, 3, is greater than permitted\n",
      "[18:45:23] Explicit valence for atom # 84 N, 4, is greater than permitted\n",
      "[18:45:23] SMILES Parse Error: syntax error while parsing: OC1=CC=CC(=C1)C-1=C2\\CCC(=N2)\\C(=C2/N\\C(\\C=C2)=C(/C2=N/C(/C=C2)=C(\\C2=CC=C\\-1N2)C1=CC(O)=CC=C1)C1=CC(O)=CC=C1)\\C1=CC(O)=CC=C1\n",
      "[18:45:23] SMILES Parse Error: Failed parsing SMILES 'OC1=CC=CC(=C1)C-1=C2\\CCC(=N2)\\C(=C2/N\\C(\\C=C2)=C(/C2=N/C(/C=C2)=C(\\C2=CC=C\\-1N2)C1=CC(O)=CC=C1)C1=CC(O)=CC=C1)\\C1=CC(O)=CC=C1' for input: 'OC1=CC=CC(=C1)C-1=C2\\CCC(=N2)\\C(=C2/N\\C(\\C=C2)=C(/C2=N/C(/C=C2)=C(\\C2=CC=C\\-1N2)C1=CC(O)=CC=C1)C1=CC(O)=CC=C1)\\C1=CC(O)=CC=C1'\n",
      "[18:45:23] Explicit valence for atom # 1 Cl, 4, is greater than permitted\n",
      "[18:45:24] WARNING: not removing hydrogen atom without neighbors\n",
      "[18:45:24] WARNING: not removing hydrogen atom without neighbors\n",
      "[18:45:24] Explicit valence for atom # 1 B, 6, is greater than permitted\n"
     ]
    }
   ],
   "source": [
    "mol_list = []\n",
    "for smiles in data[\"SMILES\"]:\n",
    "    mol = Chem.MolFromSmiles(smiles)\n",
    "    mol_list.append(mol)"
   ]
  },
  {
   "cell_type": "code",
   "execution_count": 27,
   "id": "d55a4a50-876d-40bf-897c-0430d04cd42e",
   "metadata": {},
   "outputs": [
    {
     "name": "stderr",
     "output_type": "stream",
     "text": [
      "[10:58:22] DEPRECATION WARNING: please use MorganGenerator\n"
     ]
    },
    {
     "data": {
      "text/plain": [
       "np.float64(107.0)"
      ]
     },
     "execution_count": 27,
     "metadata": {},
     "output_type": "execute_result"
    }
   ],
   "source": [
    "featurizer = dc.feat.CircularFingerprint()\n",
    "np.sum(featurizer.featurize(data[\"SMILES\"][0])[0])"
   ]
  },
  {
   "cell_type": "code",
   "execution_count": 31,
   "id": "cf34003c-fc8c-4955-93d8-29add9952b3f",
   "metadata": {},
   "outputs": [
    {
     "name": "stdout",
     "output_type": "stream",
     "text": [
      "MaxAbsEStateIndex 1.7118194486284366\n",
      "MaxEStateIndex 2.458859412288004\n",
      "MinAbsEStateIndex -2.3287219318795533\n",
      "MinEStateIndex 2.26656321929664\n",
      "qed -2.61159586104492\n",
      "SPS 6.028496919505985\n",
      "MolWt -0.1440184612183397\n",
      "HeavyAtomMolWt 16.387121549434386\n",
      "ExactMolWt 9.96055219259474\n",
      "NumValenceElectrons 1.052628361033579\n",
      "NumRadicalElectrons 5529.13104588967\n",
      "MaxPartialCharge 114.9925909434234\n",
      "MinPartialCharge 85.84391765747674\n",
      "MaxAbsPartialCharge 85.84391765747674\n",
      "MinAbsPartialCharge 73.30358292411128\n",
      "FpDensityMorgan1 50.20107861427791\n",
      "FpDensityMorgan2 50.20107861427791\n",
      "FpDensityMorgan3 37.74108816394006\n",
      "BCUT2D_MWHI 37.74108816394006\n",
      "BCUT2D_MWLOW 25.145697845559017\n"
     ]
    }
   ],
   "source": [
    "from rdkit.Chem.Descriptors import descList\n",
    "rdkit_featurizer = dc.feat.RDKitDescriptors()\n",
    "features = rdkit_featurizer(data[\"SMILES\"][0])[0]\n",
    "descriptors = [i[0] for i in descList]\n",
    "for feature, descriptor in zip(features[:20], descriptors):\n",
    "    print(descriptor, feature)"
   ]
  },
  {
   "cell_type": "code",
   "execution_count": 32,
   "id": "9ffb4291-c007-4543-8386-4762da715d78",
   "metadata": {},
   "outputs": [],
   "source": [
    "from torch_geometric.nn import Node2Vec\n",
    "import torch"
   ]
  },
  {
   "cell_type": "code",
   "execution_count": null,
   "id": "6c826134-b3ea-4733-b1d4-c20611d67e62",
   "metadata": {},
   "outputs": [],
   "source": [
    "device = 'cuda' if torch.cuda.is_available() else 'cpu'\n",
    "model = Node2Vec(data.edge_index, embedding_dim=128, \n",
    "                 walk_length=20,                        # lenght of rw\n",
    "                 context_size=10, walks_per_node=20,\n",
    "                 num_negative_samples=1, \n",
    "                 p=200, q=1,                             # bias parameters\n",
    "                 sparse=True).to(device)\n",
    "\n",
    "loader = model.loader(batch_size=128, shuffle=True, num_workers=4)\n",
    "optimizer = torch.optim.SparseAdam(list(model.parameters()), lr=0.01)"
   ]
  },
  {
   "cell_type": "code",
   "execution_count": null,
   "id": "8e23f65f-eb9d-4560-aaf4-11171aae8641",
   "metadata": {},
   "outputs": [],
   "source": [
    "def train():\n",
    "    model.train()\n",
    "    total_loss = 0\n",
    "    for pos_rw, neg_rw in tqdm(loader):\n",
    "        optimizer.zero_grad()\n",
    "        loss = model.loss(pos_rw.to(device), neg_rw.to(device))\n",
    "        loss.backward()\n",
    "        optimizer.step()\n",
    "        total_loss += loss.item()\n",
    "    return total_loss / len(loader)"
   ]
  },
  {
   "cell_type": "code",
   "execution_count": null,
   "id": "232ee12d-1929-457e-b19f-b2c2c74c8b49",
   "metadata": {},
   "outputs": [],
   "source": [
    "@torch.no_grad()\n",
    "def test():\n",
    "    model.eval()\n",
    "    z = model()\n",
    "    acc = model.test(z[data.train_mask], data.y[data.train_mask],\n",
    "                     z[data.test_mask], data.y[data.test_mask],\n",
    "                     max_iter=150)\n",
    "    return acc"
   ]
  },
  {
   "cell_type": "code",
   "execution_count": null,
   "id": "401616b7-1f7a-481b-a9e9-2e78c935d8bb",
   "metadata": {},
   "outputs": [],
   "source": [
    "for epoch in range(1, 201):\n",
    "    loss = train()\n",
    "    #acc = test()\n",
    "    #print(f'Epoch: {epoch:02d}, Loss: {loss:.4f}, Acc: {acc:.4f}')"
   ]
  },
  {
   "cell_type": "code",
   "execution_count": null,
   "id": "1b48e73a-7fb6-4deb-bdce-f23bc0a18929",
   "metadata": {},
   "outputs": [],
   "source": []
  },
  {
   "cell_type": "code",
   "execution_count": null,
   "id": "018d586b-466f-45f3-8301-1a9f0d7bf3e6",
   "metadata": {},
   "outputs": [],
   "source": []
  },
  {
   "cell_type": "code",
   "execution_count": null,
   "id": "f26bf914-dc1a-435c-be62-bd689fc698a5",
   "metadata": {},
   "outputs": [],
   "source": []
  },
  {
   "cell_type": "code",
   "execution_count": 5,
   "id": "14203882-7c82-49b9-9286-465d3bb0dfcf",
   "metadata": {},
   "outputs": [],
   "source": [
    "from rdkit.Chem import Draw\n",
    "import matplotlib.pyplot as plt\n",
    "%matplotlib inline"
   ]
  },
  {
   "cell_type": "code",
   "execution_count": null,
   "id": "4b529e12-12a2-4ed3-b6c9-d3bb384a0c4a",
   "metadata": {},
   "outputs": [],
   "source": []
  },
  {
   "cell_type": "code",
   "execution_count": 13,
   "id": "00ce5dac-3304-4df2-a16a-af0e929e400d",
   "metadata": {},
   "outputs": [
    {
     "data": {
      "image/png": "[encoded data removed]",
      "text/plain": [
       "<Figure size 300x300 with 1 Axes>"
      ]
     },
     "metadata": {},
     "output_type": "display_data"
    }
   ],
   "source": [
    "Draw.MolToMPL(mol_list[0], size=(300, 300))\n",
    "plt.show()"
   ]
  },
  {
   "cell_type": "code",
   "execution_count": 33,
   "id": "6feaab62-e62f-4a3e-966d-5e392559d8e4",
   "metadata": {},
   "outputs": [
    {
     "name": "stderr",
     "output_type": "stream",
     "text": [
      "[11:30:00] WARNING: not removing hydrogen atom without neighbors\n",
      "[11:30:13] WARNING: not removing hydrogen atom without neighbors\n"
     ]
    }
   ],
   "source": [
    "import deepchem as dc\n",
    "\n",
    "tasks, datasets, transformers = dc.molnet.load_tox21(featurizer='GraphConv')\n",
    "train_dataset, valid_dataset, test_dataset = datasets"
   ]
  },
  {
   "cell_type": "code",
   "execution_count": 41,
   "id": "c9d79a9b-316f-4994-88a4-a54c5c310fed",
   "metadata": {},
   "outputs": [
    {
     "data": {
      "text/plain": [
       "<deepchem.feat.mol_graphs.ConvMol at 0x7f3d10b57fd0>"
      ]
     },
     "execution_count": 41,
     "metadata": {},
     "output_type": "execute_result"
    }
   ],
   "source": [
    "train_dataset.X[0]"
   ]
  },
  {
   "cell_type": "code",
   "execution_count": 1,
   "id": "76481c92-4c7e-4cc1-903f-6fef305a7c0e",
   "metadata": {},
   "outputs": [
    {
     "name": "stderr",
     "output_type": "stream",
     "text": [
      "No normalization for SPS. Feature removed!\n",
      "No normalization for AvgIpc. Feature removed!\n",
      "Skipped loading some Tensorflow models, missing a dependency. No module named 'tensorflow'\n",
      "Skipped loading modules with pytorch-geometric dependency, missing a dependency. No module named 'torchdata.datapipes'\n",
      "Skipped loading modules with transformers dependency. No module named 'transformers'\n",
      "cannot import name 'HuggingFaceModel' from 'deepchem.models.torch_models' (/home/roozbeh/Desktop/comp-bio/task1/.venv/lib/python3.10/site-packages/deepchem/models/torch_models/__init__.py)\n",
      "Skipped loading modules with pytorch-lightning dependency, missing a dependency. No module named 'lightning'\n",
      "Skipped loading some Jax models, missing a dependency. No module named 'jax'\n",
      "Skipped loading some PyTorch models, missing a dependency. No module named 'tensorflow'\n"
     ]
    },
    {
     "ename": "ImportError",
     "evalue": "cannot import name 'GraphConvModel' from 'deepchem.models.torch_models' (/home/roozbeh/Desktop/comp-bio/task1/.venv/lib/python3.10/site-packages/deepchem/models/torch_models/__init__.py)",
     "output_type": "error",
     "traceback": [
      "\u001b[0;31m---------------------------------------------------------------------------\u001b[0m",
      "\u001b[0;31mImportError\u001b[0m                               Traceback (most recent call last)",
      "Cell \u001b[0;32mIn[1], line 3\u001b[0m\n\u001b[1;32m      1\u001b[0m \u001b[38;5;28;01mimport\u001b[39;00m \u001b[38;5;21;01mdeepchem\u001b[39;00m \u001b[38;5;28;01mas\u001b[39;00m \u001b[38;5;21;01mdc\u001b[39;00m\n\u001b[1;32m      2\u001b[0m \u001b[38;5;28;01mimport\u001b[39;00m \u001b[38;5;21;01mnumpy\u001b[39;00m \u001b[38;5;28;01mas\u001b[39;00m \u001b[38;5;21;01mnp\u001b[39;00m\n\u001b[0;32m----> 3\u001b[0m \u001b[38;5;28;01mfrom\u001b[39;00m \u001b[38;5;21;01mdeepchem\u001b[39;00m\u001b[38;5;21;01m.\u001b[39;00m\u001b[38;5;21;01mmodels\u001b[39;00m\u001b[38;5;21;01m.\u001b[39;00m\u001b[38;5;21;01mtorch_models\u001b[39;00m \u001b[38;5;28;01mimport\u001b[39;00m GraphConvModel\n\u001b[1;32m      4\u001b[0m featurizer \u001b[38;5;241m=\u001b[39m dc\u001b[38;5;241m.\u001b[39mfeat\u001b[38;5;241m.\u001b[39mConvMolFeaturizer()\n\u001b[1;32m      5\u001b[0m tasks \u001b[38;5;241m=\u001b[39m [\u001b[38;5;124m\"\u001b[39m\u001b[38;5;124moutcome\u001b[39m\u001b[38;5;124m\"\u001b[39m]\n",
      "\u001b[0;31mImportError\u001b[0m: cannot import name 'GraphConvModel' from 'deepchem.models.torch_models' (/home/roozbeh/Desktop/comp-bio/task1/.venv/lib/python3.10/site-packages/deepchem/models/torch_models/__init__.py)"
     ]
    }
   ],
   "source": [
    "import deepchem as dc\n",
    "import numpy as np\n",
    "from deepchem.models.torch_models import GraphConvModel\n",
    "featurizer = dc.feat.ConvMolFeaturizer()\n",
    "tasks = [\"outcome\"]\n",
    "mols = [\"C\", \"CO\", \"CC\"]\n",
    "X = featurizer(mols)\n",
    "y = np.array([0, 1, 0])\n",
    "dataset = dc.data.NumpyDataset(X, y)\n",
    "classification_metric = dc.metrics.Metric(dc.metrics.roc_auc_score, np.mean, mode=\"classification\")\n",
    "batch_size = 10\n",
    "model = GraphConvModel(len(tasks), number_input_features=[75, 64], batch_size=batch_size, batch_normalize=False, mode='classification')\n",
    "loss = model.fit(dataset, nb_epoch=20)"
   ]
  },
  {
   "cell_type": "code",
   "execution_count": 3,
   "id": "bdfd6ccb-aa9c-4586-9c46-8eafdf87358f",
   "metadata": {},
   "outputs": [
    {
     "ename": "ModuleNotFoundError",
     "evalue": "No module named 'torchdata.datapipes'",
     "output_type": "error",
     "traceback": [
      "\u001b[0;31m---------------------------------------------------------------------------\u001b[0m",
      "\u001b[0;31mModuleNotFoundError\u001b[0m                       Traceback (most recent call last)",
      "Cell \u001b[0;32mIn[3], line 1\u001b[0m\n\u001b[0;32m----> 1\u001b[0m \u001b[38;5;28;01mimport\u001b[39;00m \u001b[38;5;21;01mtorchdata\u001b[39;00m\u001b[38;5;21;01m.\u001b[39;00m\u001b[38;5;21;01mdatapipes\u001b[39;00m \u001b[38;5;28;01mas\u001b[39;00m \u001b[38;5;21;01mdp\u001b[39;00m\n",
      "\u001b[0;31mModuleNotFoundError\u001b[0m: No module named 'torchdata.datapipes'"
     ]
    }
   ],
   "source": [
    "import torchdata.datapipes as dp"
   ]
  },
  {
   "cell_type": "code",
   "execution_count": 4,
   "id": "b850d08c-87b8-478b-8d01-7ef63d009f34",
   "metadata": {},
   "outputs": [
    {
     "name": "stdout",
     "output_type": "stream",
     "text": [
      "Requirement already satisfied: torchdata in /home/roozbeh/Desktop/comp-bio/task1/.venv/lib/python3.10/site-packages (0.10.1)\n",
      "Requirement already satisfied: urllib3>=1.25 in /home/roozbeh/Desktop/comp-bio/task1/.venv/lib/python3.10/site-packages (from torchdata) (2.3.0)\n",
      "Requirement already satisfied: requests in /home/roozbeh/Desktop/comp-bio/task1/.venv/lib/python3.10/site-packages (from torchdata) (2.32.3)\n",
      "Requirement already satisfied: torch>=2 in /home/roozbeh/Desktop/comp-bio/task1/.venv/lib/python3.10/site-packages (from torchdata) (2.5.0)\n",
      "Requirement already satisfied: filelock in /home/roozbeh/Desktop/comp-bio/task1/.venv/lib/python3.10/site-packages (from torch>=2->torchdata) (3.16.1)\n",
      "Requirement already satisfied: typing-extensions>=4.8.0 in /home/roozbeh/Desktop/comp-bio/task1/.venv/lib/python3.10/site-packages (from torch>=2->torchdata) (4.12.2)\n",
      "Requirement already satisfied: networkx in /home/roozbeh/Desktop/comp-bio/task1/.venv/lib/python3.10/site-packages (from torch>=2->torchdata) (3.4.2)\n",
      "Requirement already satisfied: jinja2 in /home/roozbeh/Desktop/comp-bio/task1/.venv/lib/python3.10/site-packages (from torch>=2->torchdata) (3.1.5)\n",
      "Requirement already satisfied: fsspec in /home/roozbeh/Desktop/comp-bio/task1/.venv/lib/python3.10/site-packages (from torch>=2->torchdata) (2024.12.0)\n",
      "Requirement already satisfied: nvidia-cuda-nvrtc-cu12==12.4.127 in /home/roozbeh/Desktop/comp-bio/task1/.venv/lib/python3.10/site-packages (from torch>=2->torchdata) (12.4.127)\n",
      "Requirement already satisfied: nvidia-cuda-runtime-cu12==12.4.127 in /home/roozbeh/Desktop/comp-bio/task1/.venv/lib/python3.10/site-packages (from torch>=2->torchdata) (12.4.127)\n",
      "Requirement already satisfied: nvidia-cuda-cupti-cu12==12.4.127 in /home/roozbeh/Desktop/comp-bio/task1/.venv/lib/python3.10/site-packages (from torch>=2->torchdata) (12.4.127)\n",
      "Requirement already satisfied: nvidia-cudnn-cu12==9.1.0.70 in /home/roozbeh/Desktop/comp-bio/task1/.venv/lib/python3.10/site-packages (from torch>=2->torchdata) (9.1.0.70)\n",
      "Requirement already satisfied: nvidia-cublas-cu12==12.4.5.8 in /home/roozbeh/Desktop/comp-bio/task1/.venv/lib/python3.10/site-packages (from torch>=2->torchdata) (12.4.5.8)\n",
      "Requirement already satisfied: nvidia-cufft-cu12==11.2.1.3 in /home/roozbeh/Desktop/comp-bio/task1/.venv/lib/python3.10/site-packages (from torch>=2->torchdata) (11.2.1.3)\n",
      "Requirement already satisfied: nvidia-curand-cu12==10.3.5.147 in /home/roozbeh/Desktop/comp-bio/task1/.venv/lib/python3.10/site-packages (from torch>=2->torchdata) (10.3.5.147)\n",
      "Requirement already satisfied: nvidia-cusolver-cu12==11.6.1.9 in /home/roozbeh/Desktop/comp-bio/task1/.venv/lib/python3.10/site-packages (from torch>=2->torchdata) (11.6.1.9)\n",
      "Requirement already satisfied: nvidia-cusparse-cu12==12.3.1.170 in /home/roozbeh/Desktop/comp-bio/task1/.venv/lib/python3.10/site-packages (from torch>=2->torchdata) (12.3.1.170)\n",
      "Requirement already satisfied: nvidia-nccl-cu12==2.21.5 in /home/roozbeh/Desktop/comp-bio/task1/.venv/lib/python3.10/site-packages (from torch>=2->torchdata) (2.21.5)\n",
      "Requirement already satisfied: nvidia-nvtx-cu12==12.4.127 in /home/roozbeh/Desktop/comp-bio/task1/.venv/lib/python3.10/site-packages (from torch>=2->torchdata) (12.4.127)\n",
      "Requirement already satisfied: nvidia-nvjitlink-cu12==12.4.127 in /home/roozbeh/Desktop/comp-bio/task1/.venv/lib/python3.10/site-packages (from torch>=2->torchdata) (12.4.127)\n",
      "Requirement already satisfied: triton==3.1.0 in /home/roozbeh/Desktop/comp-bio/task1/.venv/lib/python3.10/site-packages (from torch>=2->torchdata) (3.1.0)\n",
      "Requirement already satisfied: sympy==1.13.1 in /home/roozbeh/Desktop/comp-bio/task1/.venv/lib/python3.10/site-packages (from torch>=2->torchdata) (1.13.1)\n",
      "Requirement already satisfied: mpmath<1.4,>=1.1.0 in /home/roozbeh/Desktop/comp-bio/task1/.venv/lib/python3.10/site-packages (from sympy==1.13.1->torch>=2->torchdata) (1.3.0)\n",
      "Requirement already satisfied: charset-normalizer<4,>=2 in /home/roozbeh/Desktop/comp-bio/task1/.venv/lib/python3.10/site-packages (from requests->torchdata) (3.4.1)\n",
      "Requirement already satisfied: idna<4,>=2.5 in /home/roozbeh/Desktop/comp-bio/task1/.venv/lib/python3.10/site-packages (from requests->torchdata) (3.10)\n",
      "Requirement already satisfied: certifi>=2017.4.17 in /home/roozbeh/Desktop/comp-bio/task1/.venv/lib/python3.10/site-packages (from requests->torchdata) (2024.12.14)\n",
      "Requirement already satisfied: MarkupSafe>=2.0 in /home/roozbeh/Desktop/comp-bio/task1/.venv/lib/python3.10/site-packages (from jinja2->torch>=2->torchdata) (3.0.2)\n"
     ]
    }
   ],
   "source": [
    "!pip install torchdata"
   ]
  },
  {
   "cell_type": "code",
   "execution_count": null,
   "id": "770c89d6-b779-483a-a695-3d3b3b485d1a",
   "metadata": {},
   "outputs": [],
   "source": []
  }
 ],
 "metadata": {
  "kernelspec": {
   "display_name": "Python 3 (ipykernel)",
   "language": "python",
   "name": "python3"
  },
  "language_info": {
   "codemirror_mode": {
    "name": "ipython",
    "version": 3
   },
   "file_extension": ".py",
   "mimetype": "text/x-python",
   "name": "python",
   "nbconvert_exporter": "python",
   "pygments_lexer": "ipython3",
   "version": "3.10.0"
  }
 },
 "nbformat": 4,
 "nbformat_minor": 5
}
