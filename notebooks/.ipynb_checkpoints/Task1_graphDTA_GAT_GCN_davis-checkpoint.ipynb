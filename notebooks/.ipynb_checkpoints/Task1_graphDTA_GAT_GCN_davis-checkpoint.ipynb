{
 "cells": [
  {
   "cell_type": "code",
   "execution_count": 1,
   "id": "71e1bcd8-fd0c-4a34-9741-50931f6d7c40",
   "metadata": {},
   "outputs": [],
   "source": [
    "%load_ext autoreload"
   ]
  },
  {
   "cell_type": "code",
   "execution_count": 2,
   "id": "773a191b-3a27-41e0-98b9-6cda9fce86c0",
   "metadata": {},
   "outputs": [],
   "source": [
    "%autoreload 2\n",
    "import torch\n",
    "import pandas as pd\n",
    "from wrapers import *"
   ]
  },
  {
   "cell_type": "code",
   "execution_count": 3,
   "id": "c043f30b-77f6-4bbc-94bf-8707e9d84b38",
   "metadata": {},
   "outputs": [],
   "source": [
    "from sklearn.decomposition import PCA\n",
    "from sklearn.manifold import TSNE\n",
    "import matplotlib.pyplot as plt\n",
    "from mpl_toolkits.mplot3d import Axes3D\n",
    "import seaborn as sns"
   ]
  },
  {
   "cell_type": "code",
   "execution_count": 4,
   "id": "8a252966-8bfd-471f-a948-e07023b8ee2a",
   "metadata": {},
   "outputs": [],
   "source": [
    "def plot_tSNE(embedded_data, ids, \n",
    "              n_iter=300, figsize=(10,10), \n",
    "              verbose=1, hue_callback=None, \n",
    "              fig=None, ax=None,\n",
    "              title=\"\"):\n",
    "    tsne = TSNE(n_components=2, verbose=verbose, perplexity=40, n_iter=n_iter)\n",
    "    tsne_results = tsne.fit_transform(embedded_data)\n",
    "    df = pd.DataFrame({})\n",
    "    df['X'] = tsne_results[:,0]\n",
    "    df['Y'] = tsne_results[:,1]\n",
    "    df['id'] = ids\n",
    "    #\n",
    "    if hue_callback is not None:\n",
    "        df[\"target\"] = hue_callback(df, embedded_data, ids)\n",
    "    #\n",
    "    #\n",
    "    np.random.seed(42)    \n",
    "    rndperm = np.random.permutation(df.shape[0])\n",
    "    #\n",
    "    if ax is None and fig is None:\n",
    "        fig = plt.figure(figsize=figsize)\n",
    "\n",
    "    if ax is None:\n",
    "        ax = fig.subplots()    \n",
    "    sns.scatterplot(\n",
    "        x=\"X\", y=\"Y\",\n",
    "        hue= None if hue_callback is None else \"target\",\n",
    "        palette=sns.color_palette(\"Set1\", 100),\n",
    "        data=df.loc[rndperm,:],\n",
    "        legend=\"full\",\n",
    "        alpha=0.3,\n",
    "        ax=ax\n",
    "    )\n",
    "    ax.set_title(title)\n",
    "    return ax, df\n",
    "    "
   ]
  },
  {
   "cell_type": "code",
   "execution_count": 5,
   "id": "61a48608-9597-4815-af82-f79a1faae8cc",
   "metadata": {},
   "outputs": [],
   "source": [
    "data_source = pd.read_csv('../data/TASK1 Material_Drug_SMILES.csv')"
   ]
  },
  {
   "cell_type": "code",
   "execution_count": 6,
   "id": "3d3b67ad-49f5-45e2-8fbf-8e6c9b53426c",
   "metadata": {
    "scrolled": true
   },
   "outputs": [
    {
     "name": "stderr",
     "output_type": "stream",
     "text": [
      "[21:57:37] Explicit valence for atom # 13 Cl, 5, is greater than permitted\n",
      "[21:57:37] SMILES Parse Error: syntax error while parsing: OS(O)(O)C1=CC=C(C=C1)C-1=C2\\C=CC(=N2)\\C(=C2/N\\C(\\C=C2)=C(/C2=N/C(/C=C2)=C(\\C2=CC=C\\-1N2)C1=CC=C(C=C1)S(O)(O)O)C1=CC=C(C=C1)S([O-])([O-])[O-])\\C1=CC=C(C=C1)S(O)(O)[O-]\n",
      "[21:57:37] SMILES Parse Error: Failed parsing SMILES 'OS(O)(O)C1=CC=C(C=C1)C-1=C2\\C=CC(=N2)\\C(=C2/N\\C(\\C=C2)=C(/C2=N/C(/C=C2)=C(\\C2=CC=C\\-1N2)C1=CC=C(C=C1)S(O)(O)O)C1=CC=C(C=C1)S([O-])([O-])[O-])\\C1=CC=C(C=C1)S(O)(O)[O-]' for input: 'OS(O)(O)C1=CC=C(C=C1)C-1=C2\\C=CC(=N2)\\C(=C2/N\\C(\\C=C2)=C(/C2=N/C(/C=C2)=C(\\C2=CC=C\\-1N2)C1=CC=C(C=C1)S(O)(O)O)C1=CC=C(C=C1)S([O-])([O-])[O-])\\C1=CC=C(C=C1)S(O)(O)[O-]'\n"
     ]
    },
    {
     "name": "stdout",
     "output_type": "stream",
     "text": [
      "The smiles id 1691:DB01929 has been failed.\n",
      "The smiles id 1760:DB01999 has been failed.\n"
     ]
    },
    {
     "name": "stderr",
     "output_type": "stream",
     "text": [
      "[21:57:37] Explicit valence for atom # 19 O, 2, is greater than permitted\n"
     ]
    },
    {
     "name": "stdout",
     "output_type": "stream",
     "text": [
      "The smiles id 2382:DB02667 has been failed.\n"
     ]
    },
    {
     "name": "stderr",
     "output_type": "stream",
     "text": [
      "[21:57:38] Explicit valence for atom # 0 O, 3, is greater than permitted\n",
      "[21:57:38] Unusual charge on atom 0 number of radical electrons set to zero\n",
      "[21:57:39] Explicit valence for atom # 1 Al, 4, is greater than permitted\n"
     ]
    },
    {
     "name": "stdout",
     "output_type": "stream",
     "text": [
      "The smiles id 3717:DB04100 has been failed.\n",
      "The smiles id 4034:DB04444 has been failed.\n"
     ]
    },
    {
     "name": "stderr",
     "output_type": "stream",
     "text": [
      "[21:57:40] Explicit valence for atom # 13 Be, 4, is greater than permitted\n"
     ]
    },
    {
     "name": "stdout",
     "output_type": "stream",
     "text": [
      "The smiles id 6588:DB08276 has been failed.\n"
     ]
    },
    {
     "name": "stderr",
     "output_type": "stream",
     "text": [
      "[21:57:40] Explicit valence for atom # 84 N, 4, is greater than permitted\n",
      "[21:57:40] SMILES Parse Error: syntax error while parsing: OC1=CC=CC(=C1)C-1=C2\\CCC(=N2)\\C(=C2/N\\C(\\C=C2)=C(/C2=N/C(/C=C2)=C(\\C2=CC=C\\-1N2)C1=CC(O)=CC=C1)C1=CC(O)=CC=C1)\\C1=CC(O)=CC=C1\n",
      "[21:57:40] SMILES Parse Error: Failed parsing SMILES 'OC1=CC=CC(=C1)C-1=C2\\CCC(=N2)\\C(=C2/N\\C(\\C=C2)=C(/C2=N/C(/C=C2)=C(\\C2=CC=C\\-1N2)C1=CC(O)=CC=C1)C1=CC(O)=CC=C1)\\C1=CC(O)=CC=C1' for input: 'OC1=CC=CC(=C1)C-1=C2\\CCC(=N2)\\C(=C2/N\\C(\\C=C2)=C(/C2=N/C(/C=C2)=C(\\C2=CC=C\\-1N2)C1=CC(O)=CC=C1)C1=CC(O)=CC=C1)\\C1=CC(O)=CC=C1'\n"
     ]
    },
    {
     "name": "stdout",
     "output_type": "stream",
     "text": [
      "The smiles id 7539:DB09385 has been failed.\n",
      "The smiles id 7944:DB11630 has been failed.\n"
     ]
    },
    {
     "name": "stderr",
     "output_type": "stream",
     "text": [
      "[21:57:41] Explicit valence for atom # 1 Cl, 4, is greater than permitted\n"
     ]
    },
    {
     "name": "stdout",
     "output_type": "stream",
     "text": [
      "The smiles id 8630:DB12453 has been failed.\n"
     ]
    },
    {
     "name": "stderr",
     "output_type": "stream",
     "text": [
      "[21:57:42] WARNING: not removing hydrogen atom without neighbors\n",
      "[21:57:42] WARNING: not removing hydrogen atom without neighbors\n",
      "[21:57:43] Explicit valence for atom # 1 B, 6, is greater than permitted\n"
     ]
    },
    {
     "name": "stdout",
     "output_type": "stream",
     "text": [
      "The smiles id 11585:DB17408 has been failed.\n"
     ]
    },
    {
     "name": "stderr",
     "output_type": "stream",
     "text": [
      "[21:57:53] Unusual charge on atom 42 number of radical electrons set to zero\n",
      "[21:58:22] WARNING: not removing hydrogen atom without neighbors\n",
      "[21:58:22] WARNING: not removing hydrogen atom without neighbors\n"
     ]
    }
   ],
   "source": [
    "iso_smiles, smiles_id_dict, smiles_graphs = smiles_to_graphs(data_source[\"drugbank_id\"].values,\n",
    "                                                             data_source[\"SMILES\"].values, isomericSmiles=True)"
   ]
  },
  {
   "cell_type": "markdown",
   "id": "a9060e6e-2d8b-4488-a963-c6409c6d6914",
   "metadata": {},
   "source": [
    "#### Datasets\n",
    "Single element itertable dataset: For actual prediction (stream_dataset)."
   ]
  },
  {
   "cell_type": "code",
   "execution_count": 7,
   "id": "e7a4fce6-431f-400c-b093-31fcbf496c65",
   "metadata": {},
   "outputs": [],
   "source": [
    "from torch.utils.data.dataloader import DataLoader\n",
    "\n",
    "\n",
    "stream_dataset = CompoundsStream(iso_smiles, smiles_graphs, smiles_id_dict)\n",
    "stream_loader = DataLoader(dataset=stream_dataset, batch_size = 1)"
   ]
  },
  {
   "cell_type": "markdown",
   "id": "1e7cc4f4-8245-4a82-9471-94e73a62cacb",
   "metadata": {},
   "source": [
    "#### The model executions:"
   ]
  },
  {
   "cell_type": "code",
   "execution_count": 8,
   "id": "06d868f9-5e9a-4a86-9f15-080c57062451",
   "metadata": {},
   "outputs": [
    {
     "data": {
      "text/plain": [
       "<All keys matched successfully>"
      ]
     },
     "execution_count": 8,
     "metadata": {},
     "output_type": "execute_result"
    }
   ],
   "source": [
    "model = GAT_GCN_augmented()\n",
    "model.load_state_dict(torch.load(\"../GraphDTA/model_GAT_GCN_davis.model\", map_location=torch.device('cpu'), weights_only=True))"
   ]
  },
  {
   "cell_type": "code",
   "execution_count": 9,
   "id": "a1a64439-b99d-4bcc-bcbe-3adbb70554f0",
   "metadata": {},
   "outputs": [
    {
     "name": "stderr",
     "output_type": "stream",
     "text": [
      "/home/roozbeh/Desktop/comp-bio/task1/notebooks/wrapers.py:407: UserWarning: Creating a tensor from a list of numpy.ndarrays is extremely slow. Please consider converting the list to a single numpy.ndarray with numpy.array() before converting to a tensor. (Triggered internally at ../torch/csrc/utils/tensor_new.cpp:278.)\n",
      "  yield torch.Tensor(features), torch.LongTensor(np.array(edge_index)).transpose(1, 0), id\n"
     ]
    }
   ],
   "source": [
    "model.eval()       \n",
    "embedded_mols = []\n",
    "with torch.no_grad():\n",
    "    for data in stream_loader:        \n",
    "        m = model.g_embedding(data)\n",
    "        embedded_mols.append(m)"
   ]
  },
  {
   "cell_type": "code",
   "execution_count": 10,
   "id": "07dd03ad-9919-435a-b28a-0160d57d57dd",
   "metadata": {},
   "outputs": [],
   "source": [
    "arr_embedded_mols = np.array([ item[0].numpy().reshape(-1) for item in embedded_mols])\n",
    "ids = [ str(item[1][0]) for item in embedded_mols ]"
   ]
  },
  {
   "cell_type": "markdown",
   "id": "21746dd9-342c-4518-a698-a9526974b2f0",
   "metadata": {},
   "source": [
    "# Save to disk"
   ]
  },
  {
   "cell_type": "code",
   "execution_count": 11,
   "id": "dfe6cf5f-917c-4935-ad70-0cdca31c1bbf",
   "metadata": {},
   "outputs": [
    {
     "data": {
      "text/plain": [
       "(11914, (11924, 4), 10, 10)"
      ]
     },
     "execution_count": 11,
     "metadata": {},
     "output_type": "execute_result"
    }
   ],
   "source": [
    "len(embedded_mols), data_source.shape, data_source.shape[0] - len(embedded_mols), data_source.shape[0]-len(iso_smiles)"
   ]
  },
  {
   "cell_type": "code",
   "execution_count": 12,
   "id": "714a8134-2016-4f63-87e5-b2e9ff6df195",
   "metadata": {},
   "outputs": [],
   "source": [
    "def save_csv(embedded_mols, method_name, extra=\"\"):\n",
    "    df = pd.DataFrame({\n",
    "        'embedding':[str(item.view(-1).numpy().tolist()) for item,_ in embedded_mols],\n",
    "        'label':[str(item[0]) for _, item in embedded_mols]\n",
    "    })\n",
    "    df.to_csv(f\"../data/drug_{method_name}{extra}_label.csv\", index=False)\n",
    "    \n",
    "    "
   ]
  },
  {
   "cell_type": "code",
   "execution_count": 13,
   "id": "13659643-df00-4659-bc31-07d02fc84ab0",
   "metadata": {},
   "outputs": [],
   "source": [
    "save_csv(embedded_mols, \"GraphDTA_GATGCN_davis\")"
   ]
  },
  {
   "cell_type": "code",
   "execution_count": null,
   "id": "416133b6-c416-4cc6-b3a7-63650da97fbe",
   "metadata": {},
   "outputs": [],
   "source": []
  },
  {
   "cell_type": "code",
   "execution_count": 14,
   "id": "cb2e0e4c-3a35-4870-ac35-04550c80a334",
   "metadata": {},
   "outputs": [],
   "source": [
    "df2 = data_source.set_index(\"drugbank_id\")\n",
    "def Is_single_matom_mol(id):\n",
    "    # Single atom Mol\n",
    "    smiles = df2.loc[id][\"SMILES\"]\n",
    "    mol = Chem.MolFromSmiles(smiles)    \n",
    "    return len(mol.GetBonds()) == 0\n",
    "\n",
    "def hue_callback(df, embedded_data, ids):\n",
    "    targets = [\"\"] * df.shape[0]\n",
    "    for i in range(df.shape[0]):\n",
    "        if Is_single_matom_mol(ids[i]):\n",
    "            targets[i] = \"single\"\n",
    "    \n",
    "    return targets"
   ]
  },
  {
   "cell_type": "code",
   "execution_count": 15,
   "id": "5a6842dc-b4bc-4354-85c6-396b1bb288e4",
   "metadata": {},
   "outputs": [],
   "source": [
    "def get_plot_info_by_smiles(smiles, df_tSNE):\n",
    "    id, drug_name, drug_type, _ = data_source.loc[data_source[\"SMILES\"] == smiles].to_numpy()[0]    \n",
    "    x,y,*_ = df_tSNE.loc[df_tSNE['id'] == id].to_numpy()[0]\n",
    "    return x,y,id,drug_name, drug_type\n",
    "\n",
    "def get_plot_info_by_id(id, df_tSNE):\n",
    "    _, drug_name, drug_type, _ = data_source.loc[data_source[\"drugbank_id\"] == id].to_numpy()[0]    \n",
    "    x,y,*_ = df_tSNE.loc[df_tSNE['id'] == id].to_numpy()[0]\n",
    "    return x,y,id,drug_name, drug_type\n",
    "\n",
    "def annotate_smiles(smiles, df_tSNE, x_shift=-10, y_shift=-10):\n",
    "    x,y,id,drug_name, drug_type = get_plot_info_by_smiles(smiles, df_tSNE)\n",
    "    plt.annotate(f'{drug_name}',xy=(x,y),xytext=(x+x_shift,y+y_shift),\n",
    "                   arrowprops={\"width\":.4,\"headwidth\":2,'headlength':2},\n",
    "                   horizontalalignment='center',fontsize=8)\n",
    "\n",
    "def annotate_id(id, df_tSNE, x_shift=-10, y_shift=-10):\n",
    "    x,y,id,drug_name, drug_type = get_plot_info_by_id(id, df_tSNE)\n",
    "    plt.annotate(f'{drug_name}',xy=(x,y),xytext=(x+x_shift,y+y_shift),\n",
    "                   arrowprops={\"width\":.4,\"headwidth\":2,'headlength':2},\n",
    "                   horizontalalignment='center',fontsize=8) "
   ]
  },
  {
   "cell_type": "code",
   "execution_count": null,
   "id": "854337e1-80d5-45e2-9115-20d20c54ada9",
   "metadata": {},
   "outputs": [
    {
     "name": "stderr",
     "output_type": "stream",
     "text": [
      "/home/roozbeh/Desktop/comp-bio/task1/.venv_graphdta/lib/python3.10/site-packages/sklearn/manifold/_t_sne.py:1164: FutureWarning: 'n_iter' was renamed to 'max_iter' in version 1.5 and will be removed in 1.7.\n",
      "  warnings.warn(\n"
     ]
    }
   ],
   "source": [
    "ax, df_tSNE = plot_tSNE(arr_embedded_mols, ids, figsize=(10,10), n_iter=2000, verbose=0,\n",
    "                       hue_callback=hue_callback,\n",
    "                       title=\"tSNE Plot\")\n",
    "\n",
    "annotate_smiles(\"[F-]\", df_tSNE, x_shift=-10, y_shift=-10)\n",
    "annotate_smiles(\"[K+]\", df_tSNE, x_shift=0, y_shift=5)\n",
    "annotate_smiles(\"[Li+]\", df_tSNE, x_shift=-15, y_shift=-5)\n",
    "annotate_smiles(\"[Al]\", df_tSNE, x_shift=-15, y_shift=0)\n",
    "annotate_smiles(\"[Ca]\", df_tSNE, x_shift=0, y_shift=-5)\n",
    "annotate_smiles(\"[Mg++]\", df_tSNE, x_shift=-15, y_shift=10)\n",
    "\t\n",
    "annotate_id(\"DB09511\", df_tSNE, x_shift=0, y_shift=-5)#Talc\n",
    "annotate_id(\"DB17739\", df_tSNE, x_shift=0, y_shift=10)#HPA-23\n",
    "\n",
    "atom1, atom2 , *_ = df_tSNE[(df_tSNE['X'] > 0) & (df_tSNE['X'] < 10) & (df_tSNE['Y'] > 0) & (df_tSNE['Y'] < 20)].to_numpy()\n",
    "annotate_id(atom1[2], df_tSNE, x_shift=0, y_shift=-10)\n",
    "annotate_id(atom2[2], df_tSNE, x_shift=0, y_shift=10)"
   ]
  },
  {
   "cell_type": "code",
   "execution_count": null,
   "id": "61133495-ede2-4690-91cc-25f4c757afeb",
   "metadata": {},
   "outputs": [],
   "source": [
    "atom1, atom2 , *_ = df_tSNE[(df_tSNE['X'] > 0) & (df_tSNE['X'] < 10) & (df_tSNE['Y'] > 0) & (df_tSNE['Y'] < 20)].to_numpy()"
   ]
  },
  {
   "cell_type": "code",
   "execution_count": null,
   "id": "68a29e26-a3f7-4311-88e2-1db1b144746f",
   "metadata": {},
   "outputs": [],
   "source": [
    "atom1"
   ]
  },
  {
   "cell_type": "code",
   "execution_count": null,
   "id": "6b5cde26-6b09-46bf-a763-d4cf9f22b3c4",
   "metadata": {},
   "outputs": [],
   "source": [
    "get_plot_info_by_id(\"DB00412\", df_tSNE), get_plot_info_by_id(\"DB00527\", df_tSNE)"
   ]
  },
  {
   "cell_type": "code",
   "execution_count": null,
   "id": "78331f98-68d6-48ae-a601-99059c98099a",
   "metadata": {},
   "outputs": [],
   "source": []
  }
 ],
 "metadata": {
  "kernelspec": {
   "display_name": "Python 3 (ipykernel)",
   "language": "python",
   "name": "python3"
  },
  "language_info": {
   "codemirror_mode": {
    "name": "ipython",
    "version": 3
   },
   "file_extension": ".py",
   "mimetype": "text/x-python",
   "name": "python",
   "nbconvert_exporter": "python",
   "pygments_lexer": "ipython3",
   "version": "3.10.0"
  }
 },
 "nbformat": 4,
 "nbformat_minor": 5
}
